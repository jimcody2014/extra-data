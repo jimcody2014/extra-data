{
 "cells": [
  {
   "cell_type": "markdown",
   "metadata": {},
   "source": [
    "# Practice with NumPy Arrays\n",
    "\n",
    "In this lab, you'll practice creating and working with NumPy arrays, learning the basics of array creation, manipulation, and simple operations for data science.\n",
    "\n",
    "## Learning Objectives\n",
    "By the end of this lab, you will be able to:\n",
    "- Create NumPy arrays using various methods\n",
    "- Access and modify array elements using indexing and slicing\n",
    "- Perform mathematical operations on arrays using vectorization\n",
    "- Reshape and manipulate array structures\n",
    "- Filter data using boolean indexing and conditional operations"
   ]
  },
  {
   "cell_type": "markdown",
   "metadata": {},
   "source": [
    "## Section 1: Getting Started with NumPy Arrays\n",
    "\n",
    "NumPy arrays form the foundation of data science in Python because they provide efficient storage and computation for numerical data. Unlike Python lists, NumPy arrays store elements of the same data type in contiguous memory locations, making mathematical operations much faster.\n",
    "\n",
    "Let's begin by importing NumPy and creating your first arrays:"
   ]
  },
  {
   "cell_type": "code",
   "execution_count": null,
   "metadata": {},
   "outputs": [],
   "source": [
    "import numpy as np\n",
    "\n",
    "# Create arrays from lists\n",
    "simple_array = np.array([1, 2, 3, 4, 5])\n",
    "print(\"Simple array:\", simple_array)\n",
    "print(\"Array type:\", type(simple_array))\n",
    "print(\"Element data type:\", simple_array.dtype)\n",
    "\n",
    "# Create a 2D array (matrix)\n",
    "matrix = np.array([[1, 2, 3], [4, 5, 6], [7, 8, 9]])\n",
    "print(\"\\n2D Array:\")\n",
    "print(matrix)\n",
    "print(\"Shape:\", matrix.shape)\n",
    "print(\"Number of dimensions:\", matrix.ndim)"
   ]
  },
  {
   "cell_type": "markdown",
   "metadata": {},
   "source": [
    "**Exercise 1.1:** Run the code above and examine the output. Notice how NumPy automatically determines the data type and provides useful information about the array's structure.\n",
    "\n",
    "**Think About It:** Why do you think NumPy arrays require all elements to be the same data type, while Python lists allow mixed types?"
   ]
  },
  {
   "cell_type": "markdown",
   "metadata": {},
   "source": [
    "## Section 2: Array Creation Methods\n",
    "\n",
    "NumPy provides several convenient methods for creating arrays without manually typing every element. These methods are particularly useful when working with large datasets or when you need arrays with specific patterns."
   ]
  },
  {
   "cell_type": "code",
   "execution_count": null,
   "metadata": {},
   "outputs": [],
   "source": [
    "# Create arrays with specific values\n",
    "zeros_array = np.zeros(5)  # Array of zeros\n",
    "ones_array = np.ones((3, 4))  # 3x4 array of ones\n",
    "full_array = np.full((2, 3), 7)  # 2x3 array filled with 7\n",
    "\n",
    "print(\"Zeros array:\", zeros_array)\n",
    "print(\"\\nOnes array:\")\n",
    "print(ones_array)\n",
    "print(\"\\nFull array:\")\n",
    "print(full_array)"
   ]
  },
  {
   "cell_type": "code",
   "execution_count": null,
   "metadata": {},
   "outputs": [],
   "source": [
    "# Create arrays with ranges\n",
    "range_array = np.arange(0, 10, 2)  # Start at 0, stop before 10, step by 2\n",
    "linspace_array = np.linspace(0, 1, 5)  # 5 evenly spaced numbers from 0 to 1\n",
    "\n",
    "print(\"Range array:\", range_array)\n",
    "print(\"Linspace array:\", linspace_array)"
   ]
  },
  {
   "cell_type": "code",
   "execution_count": null,
   "metadata": {},
   "outputs": [],
   "source": [
    "# Create random arrays (useful for testing and simulations)\n",
    "np.random.seed(42)  # Set seed for reproducible results\n",
    "random_array = np.random.rand(3, 3)  # 3x3 array of random numbers between 0 and 1\n",
    "random_integers = np.random.randint(1, 11, size=10)  # 10 random integers from 1 to 10\n",
    "\n",
    "print(\"Random array:\")\n",
    "print(random_array)\n",
    "print(\"Random integers:\", random_integers)"
   ]
  },
  {
   "cell_type": "markdown",
   "metadata": {},
   "source": [
    "**Exercise 2.1:** Try creating the following arrays:\n",
    "1. A 4x4 array filled with the number 3.14\n",
    "2. An array of 15 evenly spaced numbers from -5 to 5\n",
    "3. A 1D array of 20 random integers between 50 and 100\n",
    "\n",
    "Use the cell below for your practice:"
   ]
  },
  {
   "cell_type": "code",
   "execution_count": null,
   "metadata": {},
   "outputs": [],
   "source": [
    "# Your practice code here\n"
   ]
  },
  {
   "cell_type": "markdown",
   "metadata": {},
   "source": [
    "## Section 3: Array Indexing and Slicing\n",
    "\n",
    "Accessing and modifying array elements is a fundamental skill in data science. NumPy provides powerful indexing capabilities that go far beyond basic list indexing."
   ]
  },
  {
   "cell_type": "code",
   "execution_count": null,
   "metadata": {},
   "outputs": [],
   "source": [
    "# Create a sample array to work with\n",
    "data = np.array([10, 20, 30, 40, 50, 60, 70, 80, 90, 100])\n",
    "\n",
    "# Basic indexing (similar to Python lists)\n",
    "print(\"First element:\", data[0])\n",
    "print(\"Last element:\", data[-1])\n",
    "print(\"Third element:\", data[2])\n",
    "\n",
    "# Slicing - extracting portions of arrays\n",
    "print(\"\\nFirst three elements:\", data[:3])\n",
    "print(\"Last three elements:\", data[-3:])\n",
    "print(\"Every second element:\", data[::2])\n",
    "print(\"Elements from index 2 to 7:\", data[2:8])"
   ]
  },
  {
   "cell_type": "code",
   "execution_count": null,
   "metadata": {},
   "outputs": [],
   "source": [
    "# Modifying array elements\n",
    "data_copy = data.copy()  # Create a copy to preserve original\n",
    "data_copy[0] = 999\n",
    "data_copy[5:8] = [600, 700, 800]\n",
    "print(\"Original array:\", data)\n",
    "print(\"Modified array:\", data_copy)"
   ]
  },
  {
   "cell_type": "code",
   "execution_count": null,
   "metadata": {},
   "outputs": [],
   "source": [
    "# Working with 2D arrays\n",
    "matrix_2d = np.array([[1, 2, 3, 4],\n",
    "                      [5, 6, 7, 8], \n",
    "                      [9, 10, 11, 12]])\n",
    "\n",
    "print(\"2D Array:\")\n",
    "print(matrix_2d)\n",
    "print(\"Element at row 1, column 2:\", matrix_2d[1, 2])\n",
    "print(\"First row:\", matrix_2d[0, :])\n",
    "print(\"Second column:\", matrix_2d[:, 1])\n",
    "print(\"Submatrix (rows 0-1, columns 1-3):\")\n",
    "print(matrix_2d[0:2, 1:4])"
   ]
  },
  {
   "cell_type": "markdown",
   "metadata": {},
   "source": [
    "**Exercise 3.1:** Using the `matrix_2d` array above, try to extract:\n",
    "1. The last row\n",
    "2. The last column  \n",
    "3. The center 2x2 submatrix\n",
    "4. Every other element in the first row\n",
    "\n",
    "Use the cell below:"
   ]
  },
  {
   "cell_type": "code",
   "execution_count": null,
   "metadata": {},
   "outputs": [],
   "source": [
    "# Your indexing practice here\n"
   ]
  },
  {
   "cell_type": "markdown",
   "metadata": {},
   "source": [
    "## Section 4: Mathematical Operations and Broadcasting\n",
    "\n",
    "One of NumPy's greatest strengths is its ability to perform mathematical operations efficiently across entire arrays. This concept, called vectorization, eliminates the need for explicit loops and dramatically improves performance."
   ]
  },
  {
   "cell_type": "code",
   "execution_count": null,
   "metadata": {},
   "outputs": [],
   "source": [
    "# Create arrays for mathematical operations\n",
    "array_a = np.array([1, 2, 3, 4, 5])\n",
    "array_b = np.array([10, 20, 30, 40, 50])\n",
    "\n",
    "# Element-wise arithmetic operations\n",
    "print(\"Array A:\", array_a)\n",
    "print(\"Array B:\", array_b)\n",
    "print(\"A + B:\", array_a + array_b)\n",
    "print(\"A * B:\", array_a * array_b)\n",
    "print(\"B / A:\", array_b / array_a)\n",
    "print(\"A squared:\", array_a ** 2)"
   ]
  },
  {
   "cell_type": "code",
   "execution_count": null,
   "metadata": {},
   "outputs": [],
   "source": [
    "# Operations with scalars (broadcasting)\n",
    "print(\"Broadcasting with scalars:\")\n",
    "print(\"A + 10:\", array_a + 10)\n",
    "print(\"A * 3:\", array_a * 3)\n",
    "print(\"A / 2:\", array_a / 2)"
   ]
  },
  {
   "cell_type": "code",
   "execution_count": null,
   "metadata": {},
   "outputs": [],
   "source": [
    "# Mathematical functions\n",
    "print(\"Mathematical functions:\")\n",
    "print(\"Square root of A:\", np.sqrt(array_a))\n",
    "print(\"Exponential of A:\", np.exp(array_a))\n",
    "print(\"Natural log of B:\", np.log(array_b))\n",
    "print(\"Sine of A:\", np.sin(array_a))"
   ]
  },
  {
   "cell_type": "code",
   "execution_count": null,
   "metadata": {},
   "outputs": [],
   "source": [
    "# Statistical operations\n",
    "print(\"Statistical operations on Array B:\")\n",
    "print(\"Sum:\", np.sum(array_b))\n",
    "print(\"Mean:\", np.mean(array_b))\n",
    "print(\"Standard deviation:\", np.std(array_b))\n",
    "print(\"Minimum:\", np.min(array_b))\n",
    "print(\"Maximum:\", np.max(array_b))\n",
    "print(\"Index of maximum:\", np.argmax(array_b))"
   ]
  },
  {
   "cell_type": "markdown",
   "metadata": {},
   "source": [
    "**Exercise 4.1:** Create two arrays of your choice and perform the following operations:\n",
    "1. Element-wise subtraction\n",
    "2. Element-wise division\n",
    "3. Find the mean and standard deviation of each array\n",
    "4. Apply the cosine function to one of the arrays\n",
    "\n",
    "**Think About It:** Why is vectorization faster than using loops in Python?"
   ]
  },
  {
   "cell_type": "code",
   "execution_count": null,
   "metadata": {},
   "outputs": [],
   "source": [
    "# Your mathematical operations practice here\n"
   ]
  },
  {
   "cell_type": "markdown",
   "metadata": {},
   "source": [
    "## Section 5: Array Reshaping and Manipulation\n",
    "\n",
    "Data often comes in one format but needs to be restructured for analysis or visualization. NumPy provides powerful tools for changing array shapes while preserving the underlying data."
   ]
  },
  {
   "cell_type": "code",
   "execution_count": null,
   "metadata": {},
   "outputs": [],
   "source": [
    "# Create a 1D array\n",
    "original = np.arange(1, 13)  # Numbers 1 through 12\n",
    "print(\"Original array:\", original)\n",
    "print(\"Shape:\", original.shape)\n",
    "\n",
    "# Reshape into different dimensions\n",
    "reshaped_2d = original.reshape(3, 4)  # 3 rows, 4 columns\n",
    "reshaped_3d = original.reshape(2, 2, 3)  # 2x2x3 array\n",
    "\n",
    "print(\"\\nReshaped to 3x4:\")\n",
    "print(reshaped_2d)\n",
    "print(\"Shape:\", reshaped_2d.shape)\n",
    "\n",
    "print(\"\\nReshaped to 2x2x3:\")\n",
    "print(reshaped_3d)\n",
    "print(\"Shape:\", reshaped_3d.shape)"
   ]
  },
  {
   "cell_type": "code",
   "execution_count": null,
   "metadata": {},
   "outputs": [],
   "source": [
    "# Flatten arrays back to 1D\n",
    "flattened = reshaped_2d.flatten()\n",
    "print(\"Flattened back to 1D:\", flattened)\n",
    "\n",
    "# Transpose (swap rows and columns)\n",
    "transposed = reshaped_2d.T\n",
    "print(\"\\nOriginal 3x4:\")\n",
    "print(reshaped_2d)\n",
    "print(\"\\nTransposed (4x3):\")\n",
    "print(transposed)\n",
    "print(\"Shape:\", transposed.shape)"
   ]
  },
  {
   "cell_type": "code",
   "execution_count": null,
   "metadata": {},
   "outputs": [],
   "source": [
    "# Stack arrays together\n",
    "array1 = np.array([1, 2, 3])\n",
    "array2 = np.array([4, 5, 6])\n",
    "array3 = np.array([7, 8, 9])\n",
    "\n",
    "# Vertical stacking (stack as rows)\n",
    "vstacked = np.vstack([array1, array2, array3])\n",
    "print(\"Vertically stacked:\")\n",
    "print(vstacked)\n",
    "\n",
    "# Horizontal stacking (concatenate side by side)\n",
    "hstacked = np.hstack([array1, array2, array3])\n",
    "print(\"\\nHorizontally stacked:\", hstacked)"
   ]
  },
  {
   "cell_type": "markdown",
   "metadata": {},
   "source": [
    "**Exercise 5.1:** Practice reshaping with these tasks:\n",
    "1. Create a 1D array with 24 elements\n",
    "2. Reshape it into a 4x6 matrix\n",
    "3. Transpose the matrix\n",
    "4. Flatten it back to 1D\n",
    "5. Reshape into a 3D array of your choice (make sure the total elements = 24)\n",
    "\n",
    "**Challenge:** Can you reshape a 12-element array into a 3x5 matrix? Why or why not?"
   ]
  },
  {
   "cell_type": "code",
   "execution_count": null,
   "metadata": {},
   "outputs": [],
   "source": [
    "# Your reshaping practice here\n"
   ]
  },
  {
   "cell_type": "markdown",
   "metadata": {},
   "source": [
    "## Section 6: Boolean Indexing and Conditional Operations\n",
    "\n",
    "Real-world data analysis often requires filtering data based on conditions. NumPy's boolean indexing provides an elegant way to select elements that meet specific criteria."
   ]
  },
  {
   "cell_type": "code",
   "execution_count": null,
   "metadata": {},
   "outputs": [],
   "source": [
    "# Create sample data\n",
    "temperatures = np.array([68, 72, 75, 80, 85, 90, 95, 88, 82, 78])\n",
    "cities = np.array(['NYC', 'LA', 'Chicago', 'Houston', 'Phoenix', \n",
    "                   'Philadelphia', 'San Antonio', 'San Diego', 'Dallas', 'San Jose'])\n",
    "\n",
    "print(\"Temperatures:\", temperatures)\n",
    "print(\"Cities:\", cities)"
   ]
  },
  {
   "cell_type": "code",
   "execution_count": null,
   "metadata": {},
   "outputs": [],
   "source": [
    "# Create boolean masks\n",
    "hot_days = temperatures > 85\n",
    "very_hot_days = temperatures >= 90\n",
    "moderate_days = (temperatures >= 75) & (temperatures < 85)\n",
    "\n",
    "print(\"Hot days (>85°F):\", hot_days)\n",
    "print(\"Very hot days (>=90°F):\", very_hot_days)\n",
    "print(\"Moderate days (75-84°F):\", moderate_days)"
   ]
  },
  {
   "cell_type": "code",
   "execution_count": null,
   "metadata": {},
   "outputs": [],
   "source": [
    "# Use boolean indexing to filter data\n",
    "hot_cities = cities[hot_days]\n",
    "hot_temps = temperatures[hot_days]\n",
    "\n",
    "print(\"Cities with hot weather:\")\n",
    "for city, temp in zip(hot_cities, hot_temps):\n",
    "    print(f\"{city}: {temp}°F\")"
   ]
  },
  {
   "cell_type": "code",
   "execution_count": null,
   "metadata": {},
   "outputs": [],
   "source": [
    "# Conditional operations\n",
    "# Replace extreme temperatures with more moderate values\n",
    "adjusted_temps = np.where(temperatures > 90, 90, temperatures)\n",
    "print(\"Original temperatures:\", temperatures)\n",
    "print(\"Adjusted temperatures (capped at 90°F):\", adjusted_temps)\n",
    "\n",
    "# Count elements meeting conditions\n",
    "num_hot_days = np.sum(hot_days)  # True counts as 1, False as 0\n",
    "num_moderate_days = np.sum(moderate_days)\n",
    "print(f\"\\nNumber of hot days: {num_hot_days}\")\n",
    "print(f\"Number of moderate days: {num_moderate_days}\")\n",
    "\n",
    "# Find indices of elements meeting conditions\n",
    "hot_indices = np.where(temperatures > 85)[0]\n",
    "print(\"Indices of hot days:\", hot_indices)"
   ]
  },
  {
   "cell_type": "markdown",
   "metadata": {},
   "source": [
    "**Exercise 6.1:** Practice boolean indexing with this scenario:\n",
    "\n",
    "You have test scores for a class of students. Create arrays for student names and their scores, then:\n",
    "1. Find all students who scored above 90\n",
    "2. Find students who scored between 80-89 (inclusive)\n",
    "3. Count how many students failed (scored below 60)\n",
    "4. Replace all failing scores with 60 (minimum passing)\n",
    "5. Calculate the average score for students who originally passed\n",
    "\n",
    "**Think About It:** Why do you think boolean indexing is so powerful for data analysis?"
   ]
  },
  {
   "cell_type": "code",
   "execution_count": null,
   "metadata": {},
   "outputs": [],
   "source": [
    "# Create your student data and practice boolean indexing here\n",
    "# Suggestion: Use names like ['Alice', 'Bob', 'Charlie', ...] and realistic test scores\n"
   ]
  },
  {
   "cell_type": "markdown",
   "metadata": {},
   "source": [
    "## Lab Summary and Reflection\n",
    "\n",
    "Congratulations! In this lab, you've practiced the essential NumPy skills that form the foundation of data science in Python:\n",
    "\n",
    "**Key Skills Mastered:**\n",
    "- Creating arrays with different methods (`array`, `zeros`, `ones`, `arange`, `linspace`)\n",
    "- Indexing and slicing arrays to access or modify data\n",
    "- Performing mathematical operations using vectorization and broadcasting\n",
    "- Reshaping and stacking arrays for different data representations\n",
    "- Filtering data with boolean indexing and conditional operations\n",
    "\n",
    "**Why These Skills Matter:**\n",
    "NumPy's vectorized operations are typically 10-100 times faster than equivalent Python loops, making it essential for working with large datasets. The indexing and reshaping capabilities you've learned are crucial for preparing data for machine learning algorithms and statistical analysis.\n",
    "\n",
    "**Looking Ahead:**\n",
    "These NumPy fundamentals prepare you perfectly for the next step: learning Pandas. Pandas is built on top of NumPy, so understanding arrays, vectorization, and boolean indexing will make Pandas DataFrames much easier to understand and manipulate.\n",
    "\n",
    "**Reflection Questions:**\n",
    "1. Which NumPy concept was most challenging to understand, and why?\n",
    "2. How do you think vectorization will change the way you approach data processing tasks?\n",
    "3. Can you think of a real-world scenario where boolean indexing would be particularly useful?\n",
    "4. What questions do you still have about NumPy arrays?"
   ]
  },
  {
   "cell_type": "markdown",
   "metadata": {},
   "source": [
    "## Additional Practice (Optional)\n",
    "\n",
    "If you'd like more practice, try these challenge exercises:"
   ]
  },
  {
   "cell_type": "code",
   "execution_count": null,
   "metadata": {},
   "outputs": [],
   "source": [
    "# Challenge 1: Create a function that normalizes an array to have mean 0 and standard deviation 1\n",
    "# def normalize_array(arr):\n",
    "    # \"\"\"Normalize array to have mean=0, std=1\"\"\"\n",
    "    # Your code here\n",
    "    # pass\n",
    "\n",
    "# Test your function\n",
    "# test_data = np.array([10, 20, 30, 40, 50])\n",
    "# normalized = normalize_array(test_data)\n",
    "# print(f\"Original mean: {np.mean(test_data):.2f}, std: {np.std(test_data):.2f}\")\n",
    "# print(f\"Normalized mean: {np.mean(normalized):.2f}, std: {np.std(normalized):.2f}\")\n",
    "\n"
   ]
  },
  {
   "cell_type": "code",
   "execution_count": null,
   "metadata": {},
   "outputs": [],
   "source": [
    "# Challenge 2: Matrix operations - Create two 3x3 matrices and perform matrix multiplication\n",
    "# Hint: Use np.dot() or the @ operator for matrix multiplication (different from element-wise *)\n",
    "\n"
   ]
  },
  {
   "cell_type": "code",
   "execution_count": null,
   "metadata": {},
   "outputs": [],
   "source": [
    "# Challenge 3: Advanced boolean indexing - Given a 2D array, find all rows where the sum is greater than 15\n"
   ]
  }
 ],
 "metadata": {
  "kernelspec": {
   "display_name": "Python 3",
   "language": "python",
   "name": "python3"
  },
  "language_info": {
   "codemirror_mode": {
    "name": "ipython",
    "version": 3
   },
   "file_extension": ".py",
   "mimetype": "text/x-python",
   "name": "python",
   "nbconvert_exporter": "python",
   "pygments_lexer": "ipython3",
   "version": "3.13.5"
  }
 },
 "nbformat": 4,
 "nbformat_minor": 4
}
