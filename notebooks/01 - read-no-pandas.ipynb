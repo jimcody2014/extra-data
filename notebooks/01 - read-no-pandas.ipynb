{
 "cells": [
  {
   "cell_type": "code",
   "execution_count": null,
   "id": "8c20bcde",
   "metadata": {},
   "outputs": [],
   "source": [
    "import sqlite3\n",
    "\n",
    "conn = sqlite3.connect('data.db')\n",
    "c = conn.cursor()"
   ]
  },
  {
   "cell_type": "code",
   "execution_count": null,
   "id": "6477014e",
   "metadata": {},
   "outputs": [],
   "source": [
    "table_name = 'users'\n",
    "sql_command = f'DROP TABLE IF EXISTS {table_name};'\n",
    "c.execute(sql_command)\n",
    "conn.commit()"
   ]
  },
  {
   "cell_type": "code",
   "execution_count": null,
   "id": "64147bbd",
   "metadata": {},
   "outputs": [],
   "source": [
    "c.execute('''CREATE TABLE users \n",
    "          (name text, \n",
    "          email text)''')\n",
    "c.execute(\"Insert into users values ('Jack','jack@abc.com')\")\n",
    "conn.commit"
   ]
  },
  {
   "cell_type": "code",
   "execution_count": null,
   "id": "d91a3852",
   "metadata": {},
   "outputs": [],
   "source": [
    "for row in c.execute('''select * \n",
    "                     from users'''):\n",
    "  print('row:', row)"
   ]
  },
  {
   "cell_type": "code",
   "execution_count": null,
   "id": "30c04f6c",
   "metadata": {},
   "outputs": [],
   "source": [
    "users = [('Denise', 'denise@abc.com'),('Mary', 'mary@abc.com'),('John', 'john@abc.com')]\n",
    "\n",
    "c.executemany(\"insert into users values (?,?)\", users)\n",
    "conn.commit()\n",
    "\n",
    "for row in c.execute('''select * from users'''):\n",
    "  print('row:', row)"
   ]
  },
  {
   "cell_type": "code",
   "execution_count": null,
   "id": "7823ed2f",
   "metadata": {},
   "outputs": [],
   "source": [
    "user_collection = []\n",
    "\n",
    "for row in c.execute('''select * from users'''):\n",
    "  user_collection.append(list(row))\n",
    "\n",
    "print(user_collection)  "
   ]
  },
  {
   "cell_type": "code",
   "execution_count": null,
   "id": "82430bee",
   "metadata": {},
   "outputs": [],
   "source": [
    "conn.close"
   ]
  },
  {
   "cell_type": "markdown",
   "id": "347444ac",
   "metadata": {},
   "source": [
    "## Working with csv files"
   ]
  },
  {
   "cell_type": "code",
   "execution_count": null,
   "id": "c44c373a",
   "metadata": {},
   "outputs": [],
   "source": [
    "import csv\n",
    "import os"
   ]
  },
  {
   "cell_type": "code",
   "execution_count": null,
   "id": "196f3150",
   "metadata": {},
   "outputs": [],
   "source": [
    "os.chdir('/Users/jcody/github/extra-data')"
   ]
  },
  {
   "cell_type": "code",
   "execution_count": null,
   "id": "23e31de0",
   "metadata": {},
   "outputs": [],
   "source": [
    "with open ('users.csv','w',newline='') as csvfile:\n",
    "  wtr = csv.writer(csvfile,\n",
    "                   delimiter=',',\n",
    "                   quotechar='\"',\n",
    "                   quoting=csv.QUOTE_NONNUMERIC)\n",
    "  wtr.writerows(user_collection)"
   ]
  },
  {
   "cell_type": "code",
   "execution_count": null,
   "id": "800e2e92",
   "metadata": {},
   "outputs": [],
   "source": [
    "uc2 = []\n",
    "with open('Sales.csv', 'r') as csvfile:\n",
    "  rdr = csv.reader(csvfile,\n",
    "                   delimiter=',',\n",
    "                   quotechar='\"')\n",
    "  for line in rdr:\n",
    "    uc2.append(line)"
   ]
  },
  {
   "cell_type": "code",
   "execution_count": null,
   "id": "8484bdde",
   "metadata": {},
   "outputs": [],
   "source": [
    "for row in uc2[:10]:\n",
    "    print(row)"
   ]
  }
 ],
 "metadata": {
  "kernelspec": {
   "display_name": "Python 3 (ipykernel)",
   "language": "python",
   "name": "python3"
  },
  "language_info": {
   "codemirror_mode": {
    "name": "ipython",
    "version": 3
   },
   "file_extension": ".py",
   "mimetype": "text/x-python",
   "name": "python",
   "nbconvert_exporter": "python",
   "pygments_lexer": "ipython3",
   "version": "3.12.11"
  }
 },
 "nbformat": 4,
 "nbformat_minor": 5
}
