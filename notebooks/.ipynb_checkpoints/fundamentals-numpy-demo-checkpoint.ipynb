{
 "cells": [
  {
   "cell_type": "markdown",
   "metadata": {},
   "source": [
    "# Fundamentals of NumPy\n",
    "\n",
    "## Learning Objectives\n",
    "\n",
    "By the end of this module, you will be able to:\n",
    "\n",
    "* Understand why NumPy is essential for efficient data manipulation in Python\n",
    "* Create and manipulate NumPy arrays using vectorized operations\n",
    "* Apply broadcasting techniques to perform mathematical operations on arrays\n",
    "* Implement NumPy arrays in model-building scenarios\n",
    "* Practice NumPy fundamentals through hands-on exercises with real data"
   ]
  },
  {
   "cell_type": "markdown",
   "metadata": {},
   "source": [
    "## Why Learn NumPy?\n",
    "\n",
    "NumPy (Numerical Python) is the foundation of the Python data science ecosystem. It provides powerful tools for working with large datasets and performing mathematical operations efficiently.\n",
    "\n",
    "### Key Benefits:\n",
    "\n",
    "* **Performance**: NumPy operations are 10-100x faster than pure Python\n",
    "* **Memory Efficiency**: Uses contiguous memory layout for better performance\n",
    "* **Foundation**: Required by Pandas, Scikit-learn, Matplotlib, and other libraries\n",
    "* **Vectorization**: Eliminates the need for explicit loops in mathematical operations"
   ]
  },
  {
   "cell_type": "code",
   "execution_count": null,
   "metadata": {},
   "outputs": [],
   "source": [
    "%pip install numpy"
   ]
  },
  {
   "cell_type": "code",
   "execution_count": 1,
   "metadata": {},
   "outputs": [
    {
     "name": "stdout",
     "output_type": "stream",
     "text": [
      "Python list operation time: 0.1021 seconds\n",
      "NumPy array operation time: 0.0047 seconds\n",
      "NumPy is 21.9x faster!\n"
     ]
    }
   ],
   "source": [
    "# Let's demonstrate the performance difference\n",
    "import numpy as np\n",
    "import time\n",
    "\n",
    "# Create large datasets\n",
    "size = 1000000\n",
    "python_list1 = list(range(size))\n",
    "python_list2 = list(range(size, 2*size))\n",
    "numpy_array1 = np.arange(size)\n",
    "numpy_array2 = np.arange(size, 2*size)\n",
    "\n",
    "# Time Python list operation\n",
    "start_time = time.time()\n",
    "python_result = [a + b for a, b in zip(python_list1, python_list2)]\n",
    "python_time = time.time() - start_time\n",
    "\n",
    "# Time NumPy array operation\n",
    "start_time = time.time()\n",
    "numpy_result = numpy_array1 + numpy_array2\n",
    "numpy_time = time.time() - start_time\n",
    "\n",
    "print(f\"Python list operation time: {python_time:.4f} seconds\")\n",
    "print(f\"NumPy array operation time: {numpy_time:.4f} seconds\")\n",
    "print(f\"NumPy is {python_time/numpy_time:.1f}x faster!\")"
   ]
  },
  {
   "cell_type": "markdown",
   "metadata": {},
   "source": [
    "## Efficient Matrix Math\n",
    "\n",
    "### NumPy vs Pure Python\n",
    "\n",
    "Let's compare how mathematical operations are performed in pure Python versus NumPy:"
   ]
  },
  {
   "cell_type": "code",
   "execution_count": 2,
   "metadata": {},
   "outputs": [
    {
     "name": "stdout",
     "output_type": "stream",
     "text": [
      "Pure Python result: [11, 22, 33, 44, 55]\n",
      "NumPy result: [11 22 33 44 55]\n",
      "\n",
      "Both produce the same result, but NumPy is much faster and cleaner!\n"
     ]
    }
   ],
   "source": [
    "# Pure Python approach (slow)\n",
    "list1 = [1, 2, 3, 4, 5]\n",
    "list2 = [10, 20, 30, 40, 50]\n",
    "\n",
    "# Slow element-wise addition\n",
    "result_python = []\n",
    "for i in range(len(list1)):\n",
    "    result_python.append(list1[i] + list2[i])\n",
    "\n",
    "print(\"Pure Python result:\", result_python)\n",
    "\n",
    "# NumPy approach (fast)\n",
    "array1 = np.array([1, 2, 3, 4, 5])\n",
    "array2 = np.array([10, 20, 30, 40, 50])\n",
    "\n",
    "# Fast vectorized addition\n",
    "result_numpy = array1 + array2\n",
    "\n",
    "print(\"NumPy result:\", result_numpy)\n",
    "print(\"\\nBoth produce the same result, but NumPy is much faster and cleaner!\")"
   ]
  },
  {
   "cell_type": "markdown",
   "metadata": {},
   "source": [
    "### Problems with Pure Python:\n",
    "\n",
    "* Explicit loops required\n",
    "* Type checking for each element\n",
    "* Python object overhead\n",
    "\n",
    "### Benefits of NumPy:\n",
    "\n",
    "* Single operation on entire arrays\n",
    "* Pre-compiled C code\n",
    "* Homogeneous data types\n",
    "* Optimized memory access"
   ]
  },
  {
   "cell_type": "markdown",
   "metadata": {},
   "source": [
    "## NumPy and C\n",
    "\n",
    "NumPy's performance advantage comes from its implementation in C and optimized algorithms.\n",
    "\n",
    "### Key Performance Features:\n",
    "\n",
    "* **Contiguous Memory Layout**: Arrays stored as continuous blocks in memory\n",
    "* **Single Data Type**: All elements are the same type (no type checking overhead)\n",
    "* **SIMD Instructions**: Modern processors can operate on multiple values simultaneously\n",
    "* **Optimized Libraries**: Uses highly optimized BLAS and LAPACK libraries"
   ]
  },
  {
   "cell_type": "code",
   "execution_count": 3,
   "metadata": {},
   "outputs": [
    {
     "name": "stdout",
     "output_type": "stream",
     "text": [
      "Python list memory usage: 180,056 bytes\n",
      "NumPy array memory usage: 40,000 bytes\n",
      "NumPy uses 4.5x less memory!\n",
      "\n",
      "Array dtype: int64\n",
      "Array shape: (5000,)\n",
      "Array size: 5000 elements\n"
     ]
    }
   ],
   "source": [
    "# Demonstrate memory efficiency\n",
    "import sys\n",
    "\n",
    "# Python list\n",
    "python_list = [1, 2, 3, 4, 5] * 1000\n",
    "python_memory = sys.getsizeof(python_list) + sum(sys.getsizeof(item) for item in python_list)\n",
    "\n",
    "# NumPy array\n",
    "numpy_array = np.array([1, 2, 3, 4, 5] * 1000)\n",
    "numpy_memory = numpy_array.nbytes\n",
    "\n",
    "print(f\"Python list memory usage: {python_memory:,} bytes\")\n",
    "print(f\"NumPy array memory usage: {numpy_memory:,} bytes\")\n",
    "print(f\"NumPy uses {python_memory/numpy_memory:.1f}x less memory!\")\n",
    "\n",
    "# Show array properties\n",
    "print(f\"\\nArray dtype: {numpy_array.dtype}\")\n",
    "print(f\"Array shape: {numpy_array.shape}\")\n",
    "print(f\"Array size: {numpy_array.size} elements\")"
   ]
  },
  {
   "cell_type": "markdown",
   "metadata": {},
   "source": [
    "## NumPy Array Basics\n",
    "\n",
    "NumPy arrays (ndarrays) are the fundamental data structure for numerical computing in Python.\n",
    "\n",
    "### Creating Arrays"
   ]
  },
  {
   "cell_type": "code",
   "execution_count": null,
   "metadata": {},
   "outputs": [],
   "source": [
    "import numpy as np\n",
    "\n",
    "# From Lists\n",
    "# 1D array\n",
    "arr_1d = np.array([1, 2, 3, 4])\n",
    "print(\"1D array:\", arr_1d)\n",
    "\n",
    "# 2D array\n",
    "arr_2d = np.array([[1, 2], [3, 4]])\n",
    "print(\"\\n2D array:\")\n",
    "print(arr_2d)\n",
    "\n",
    "# Specify data type\n",
    "arr_float = np.array([1, 2, 3], dtype=float)\n",
    "print(\"\\nFloat array:\", arr_float)\n",
    "print(\"Data type:\", arr_float.dtype)"
   ]
  },
  {
   "cell_type": "code",
   "execution_count": null,
   "metadata": {},
   "outputs": [],
   "source": [
    "# Using Functions\n",
    "\n",
    "# Array of zeros\n",
    "zeros = np.zeros((3, 4))\n",
    "print(\"Array of zeros:\")\n",
    "print(zeros)\n",
    "\n",
    "# Array of ones\n",
    "ones = np.ones((2, 3))\n",
    "print(\"\\nArray of ones:\")\n",
    "print(ones)\n",
    "\n",
    "# Range of values\n",
    "range_arr = np.arange(0, 10, 2)\n",
    "print(\"\\nRange array:\", range_arr)\n",
    "\n",
    "# Evenly spaced values\n",
    "linspace_arr = np.linspace(0, 1, 5)\n",
    "print(\"\\nLinspace array:\", linspace_arr)\n",
    "\n",
    "# Random values\n",
    "np.random.seed(42)  # For reproducible results\n",
    "random_arr = np.random.random((2, 3))\n",
    "print(\"\\nRandom array:\")\n",
    "print(random_arr)"
   ]
  },
  {
   "cell_type": "markdown",
   "metadata": {},
   "source": [
    "## Basic Array Operations\n",
    "\n",
    "NumPy provides a rich set of operations for manipulating and analyzing arrays."
   ]
  },
  {
   "cell_type": "code",
   "execution_count": null,
   "metadata": {},
   "outputs": [],
   "source": [
    "# Create a sample array\n",
    "arr = np.array([[1, 2, 3],\n",
    "                [4, 5, 6]])\n",
    "\n",
    "print(\"Sample array:\")\n",
    "print(arr)\n",
    "print(\"\\n\" + \"=\"*40)\n",
    "\n",
    "# Array properties\n",
    "print(f\"Shape: {arr.shape}\")        # (2, 3)\n",
    "print(f\"Data type: {arr.dtype}\")    # int64 (or int32)\n",
    "print(f\"Dimensions: {arr.ndim}\")    # 2\n",
    "print(f\"Size: {arr.size}\")          # 6\n",
    "print(f\"Item size: {arr.itemsize} bytes\")  # 8 bytes for int64\n",
    "\n",
    "print(\"\\n\" + \"=\"*40)\n",
    "\n",
    "# Mathematical operations\n",
    "print(f\"Sum: {arr.sum()}\")          # 21\n",
    "print(f\"Mean: {arr.mean()}\")        # 3.5\n",
    "print(f\"Standard deviation: {arr.std():.2f}\")  # 1.71\n",
    "print(f\"Max: {arr.max()}\")          # 6\n",
    "print(f\"Min: {arr.min()}\")          # 1\n",
    "print(f\"Argmax (index of max): {arr.argmax()}\")  # 5\n",
    "print(f\"Argmin (index of min): {arr.argmin()}\")  # 0"
   ]
  },
  {
   "cell_type": "code",
   "execution_count": null,
   "metadata": {},
   "outputs": [],
   "source": [
    "# Operations along specific axes\n",
    "print(\"Operations along axes:\")\n",
    "print(\"\\nOriginal array:\")\n",
    "print(arr)\n",
    "\n",
    "# axis=0 operates along rows (down columns)\n",
    "print(f\"\\nSum along axis=0 (column sums): {arr.sum(axis=0)}\")\n",
    "print(f\"Mean along axis=0 (column means): {arr.mean(axis=0)}\")\n",
    "\n",
    "# axis=1 operates along columns (across rows)\n",
    "print(f\"\\nSum along axis=1 (row sums): {arr.sum(axis=1)}\")\n",
    "print(f\"Mean along axis=1 (row means): {arr.mean(axis=1)}\")"
   ]
  },
  {
   "cell_type": "markdown",
   "metadata": {},
   "source": [
    "## Vectorized (Broadcast) Operations\n",
    "\n",
    "**Vectorization** allows you to perform operations on entire arrays without explicit loops.\n",
    "\n",
    "**Broadcasting** enables operations between arrays of different shapes."
   ]
  },
  {
   "cell_type": "code",
   "execution_count": null,
   "metadata": {},
   "outputs": [],
   "source": [
    "# Vectorized operations\n",
    "arr = np.array([1, 2, 3, 4, 5])\n",
    "print(\"Original array:\", arr)\n",
    "\n",
    "# Scalar operations (broadcasting)\n",
    "result = arr * 2  # Multiplies every element by 2\n",
    "print(\"Multiplied by 2:\", result)\n",
    "\n",
    "result = arr + 10  # Adds 10 to every element\n",
    "print(\"Added 10:\", result)\n",
    "\n",
    "result = arr ** 2  # Squares every element\n",
    "print(\"Squared:\", result)\n",
    "\n",
    "# Mathematical functions\n",
    "result = np.sqrt(arr)  # Square root of every element\n",
    "print(\"Square root:\", result)\n",
    "\n",
    "result = np.sin(arr)  # Sine of every element\n",
    "print(\"Sine values:\", result)"
   ]
  },
  {
   "cell_type": "code",
   "execution_count": null,
   "metadata": {},
   "outputs": [],
   "source": [
    "# Broadcasting example\n",
    "matrix = np.array([[1, 2, 3],\n",
    "                   [4, 5, 6]])\n",
    "vector = np.array([10, 20, 30])\n",
    "\n",
    "print(\"Matrix:\")\n",
    "print(matrix)\n",
    "print(\"\\nVector:\")\n",
    "print(vector)\n",
    "\n",
    "# Broadcasting: adds vector to each row of matrix\n",
    "result = matrix + vector\n",
    "print(\"\\nMatrix + Vector (broadcasting):\")\n",
    "print(result)\n",
    "\n",
    "# More broadcasting examples\n",
    "column_vector = np.array([[100], [200]])\n",
    "print(\"\\nColumn vector:\")\n",
    "print(column_vector)\n",
    "\n",
    "result = matrix + column_vector\n",
    "print(\"\\nMatrix + Column vector (broadcasting):\")\n",
    "print(result)"
   ]
  },
  {
   "cell_type": "markdown",
   "metadata": {},
   "source": [
    "### Broadcasting Rules\n",
    "\n",
    "NumPy follows these rules for broadcasting:\n",
    "\n",
    "1. Arrays are aligned from the rightmost dimension\n",
    "2. Dimensions of size 1 can be \"stretched\" to match\n",
    "3. Missing dimensions are assumed to be size 1\n",
    "4. Arrays are compatible if dimensions are equal or one is 1"
   ]
  },
  {
   "cell_type": "code",
   "execution_count": null,
   "metadata": {},
   "outputs": [],
   "source": [
    "# Broadcasting rules demonstration\n",
    "print(\"Broadcasting examples:\")\n",
    "\n",
    "# Example 1: (3,) + (3,) = (3,)\n",
    "a = np.array([1, 2, 3])\n",
    "b = np.array([10, 20, 30])\n",
    "print(f\"\\n{a.shape} + {b.shape} = {(a + b).shape}\")\n",
    "print(f\"{a} + {b} = {a + b}\")\n",
    "\n",
    "# Example 2: (3,) + scalar = (3,)\n",
    "c = 100\n",
    "print(f\"\\n{a.shape} + scalar = {(a + c).shape}\")\n",
    "print(f\"{a} + {c} = {a + c}\")\n",
    "\n",
    "# Example 3: (2,3) + (3,) = (2,3)\n",
    "d = np.array([[1, 2, 3], [4, 5, 6]])\n",
    "e = np.array([10, 20, 30])\n",
    "print(f\"\\n{d.shape} + {e.shape} = {(d + e).shape}\")\n",
    "print(f\"Result:\\n{d + e}\")\n",
    "\n",
    "# Example 4: (2,3) + (2,1) = (2,3)\n",
    "f = np.array([[100], [200]])\n",
    "print(f\"\\n{d.shape} + {f.shape} = {(d + f).shape}\")\n",
    "print(f\"Result:\\n{d + f}\")"
   ]
  },
  {
   "cell_type": "markdown",
   "metadata": {},
   "source": [
    "## Array Indexing and Slicing\n",
    "\n",
    "### Basic Array Indexing"
   ]
  },
  {
   "cell_type": "code",
   "execution_count": null,
   "metadata": {},
   "outputs": [],
   "source": [
    "arr = np.array([[1, 2, 3],\n",
    "                [4, 5, 6],\n",
    "                [7, 8, 9]])\n",
    "\n",
    "print(\"Sample 3x3 array:\")\n",
    "print(arr)\n",
    "print(\"\\n\" + \"=\"*40)\n",
    "\n",
    "# Single element access\n",
    "print(f\"Element at [0, 1]: {arr[0, 1]}\")    # 2\n",
    "print(f\"Element at [1, 2]: {arr[1, 2]}\")    # 6\n",
    "print(f\"Element at [-1, -1]: {arr[-1, -1]}\")\n",
    "\n",
    "print(\"\\n\" + \"=\"*40)\n",
    "\n",
    "# Entire row selection\n",
    "print(f\"First row [0, :]: {arr[0, :]}\")\n",
    "print(f\"Second row [1, :]: {arr[1, :]}\")\n",
    "print(f\"Last row [-1, :]: {arr[-1, :]}\")\n",
    "\n",
    "print(\"\\n\" + \"=\"*40)\n",
    "\n",
    "# Entire column selection\n",
    "print(f\"First column [:, 0]: {arr[:, 0]}\")\n",
    "print(f\"Second column [:, 1]: {arr[:, 1]}\")\n",
    "print(f\"Last column [:, -1]: {arr[:, -1]}\")\n",
    "\n",
    "print(\"\\n\" + \"=\"*40)\n",
    "\n",
    "# Slicing\n",
    "print(\"Slice [0:2, 1:3]:\")\n",
    "print(arr[0:2, 1:3])\n",
    "# [[2 3]\n",
    "#  [5 6]]\n",
    "\n",
    "print(\"\\nSlice [1:, :2]:\")\n",
    "print(arr[1:, :2])\n",
    "# [[4 5]\n",
    "#  [7 8]]"
   ]
  },
  {
   "cell_type": "markdown",
   "metadata": {},
   "source": [
    "### Array Indexing Key Points:\n",
    "\n",
    "* Access elements using zero-based indices: `arr[row, column]`\n",
    "* Use `:` to select entire rows or columns: `arr[:, 0]` for first column\n",
    "* Slicing works like Python lists: `arr[1:3, 0:2]` selects a subarray\n",
    "* Negative indices count from the end: `arr[-1, :]` for last row"
   ]
  },
  {
   "cell_type": "markdown",
   "metadata": {},
   "source": [
    "### Boolean Array Indexing"
   ]
  },
  {
   "cell_type": "code",
   "execution_count": null,
   "metadata": {},
   "outputs": [],
   "source": [
    "# Boolean indexing\n",
    "arr = np.array([[1, 2, 3],\n",
    "                [4, 5, 6],\n",
    "                [7, 8, 9]])\n",
    "\n",
    "print(\"Original array:\")\n",
    "print(arr)\n",
    "\n",
    "# Create boolean mask\n",
    "mask = arr > 5\n",
    "print(\"\\nBoolean mask (arr > 5):\")\n",
    "print(mask)\n",
    "# [[False False False]\n",
    "#  [False False  True]\n",
    "#  [ True  True  True]]\n",
    "\n",
    "# Select elements using the mask\n",
    "print(\"\\nElements where arr > 5:\")\n",
    "print(arr[mask])    # [6 7 8 9]\n",
    "\n",
    "# Multiple conditions\n",
    "mask_complex = (arr > 3) & (arr < 8)\n",
    "print(\"\\nElements where 3 < arr < 8:\")\n",
    "print(arr[mask_complex])  # [4 5 6 7]\n",
    "\n",
    "# Conditional modification\n",
    "arr_copy = arr.copy()\n",
    "arr_copy[arr_copy > 5] = 0\n",
    "print(\"\\nArray after setting values > 5 to 0:\")\n",
    "print(arr_copy)\n",
    "# [[1 2 3]\n",
    "#  [4 5 0]\n",
    "#  [0 0 0]]"
   ]
  },
  {
   "cell_type": "code",
   "execution_count": null,
   "metadata": {},
   "outputs": [],
   "source": [
    "# More advanced boolean indexing examples\n",
    "data = np.random.randint(1, 20, (5, 4))\n",
    "print(\"Random data array:\")\n",
    "print(data)\n",
    "\n",
    "# Find elements divisible by 3\n",
    "divisible_by_3 = data % 3 == 0\n",
    "print(\"\\nElements divisible by 3:\")\n",
    "print(data[divisible_by_3])\n",
    "\n",
    "# Replace even numbers with -1\n",
    "data_modified = data.copy()\n",
    "data_modified[data_modified % 2 == 0] = -1\n",
    "print(\"\\nArray with even numbers replaced by -1:\")\n",
    "print(data_modified)\n",
    "\n",
    "# Count elements meeting condition\n",
    "count_greater_than_10 = np.sum(data > 10)\n",
    "print(f\"\\nNumber of elements > 10: {count_greater_than_10}\")\n",
    "\n",
    "# Get indices of elements meeting condition\n",
    "indices = np.where(data > 15)\n",
    "print(f\"\\nIndices where data > 15: {list(zip(indices[0], indices[1]))}\")"
   ]
  },
  {
   "cell_type": "markdown",
   "metadata": {},
   "source": [
    "### Boolean Indexing Key Points:\n",
    "\n",
    "* Create boolean masks to filter arrays: `mask = arr > value`\n",
    "* Use masks to select elements: `arr[mask]` returns elements where mask is True\n",
    "* Modify elements conditionally: `arr[arr > value] = new_value`\n",
    "* Combine conditions with `&` (and), `|` (or), `~` (not)\n",
    "* Use parentheses with multiple conditions: `(arr > 3) & (arr < 8)`"
   ]
  },
  {
   "cell_type": "markdown",
   "metadata": {},
   "source": [
    "## NumPy Aggregation Functions\n",
    "\n",
    "NumPy provides many functions for computing summary statistics and aggregations."
   ]
  },
  {
   "cell_type": "code",
   "execution_count": 5,
   "metadata": {},
   "outputs": [
    {
     "name": "stdout",
     "output_type": "stream",
     "text": [
      "Sample data:\n",
      "[[52 93 15 72 61]\n",
      " [21 83 87 75 75]\n",
      " [88 24  3 22 53]\n",
      " [ 2 88 30 38  2]]\n",
      "Sum of all elements: 984\n",
      "Mean of all elements: 49.20\n",
      "Median of all elements: 52.50\n",
      "Standard deviation: 31.57\n",
      "Variance: 996.86\n",
      "Minimum value: 2\n",
      "Maximum value: 93\n",
      "Range (max - min): 91\n",
      "\n",
      "==================================================\n",
      "25th percentile: 21.75\n",
      "50th percentile (median): 52.50\n",
      "75th percentile: 77.00\n",
      "\n",
      "==================================================\n",
      "Sum along axis=0 (column sums):\n",
      "[163 288 135 207 191]\n",
      "\n",
      "Sum along axis=1 (row sums):\n",
      "[293 341 190 160]\n",
      "\n",
      "Mean along axis=0 (column means):\n",
      "[40.75 72.   33.75 51.75 47.75]\n",
      "\n",
      "Mean along axis=1 (row means):\n",
      "[58.6 68.2 38.  32. ]\n"
     ]
    }
   ],
   "source": [
    "# Create sample data for aggregation\n",
    "np.random.seed(42)\n",
    "data = np.random.randint(1, 100, (4, 5))\n",
    "print(\"Sample data:\")\n",
    "print(data)\n",
    "print(\"\\n\" + \"=\"*50)\n",
    "\n",
    "# Basic aggregations\n",
    "print(f\"Sum of all elements: {np.sum(data)}\")\n",
    "print(f\"Mean of all elements: {np.mean(data):.2f}\")\n",
    "print(f\"Median of all elements: {np.median(data):.2f}\")\n",
    "print(f\"Standard deviation: {np.std(data):.2f}\")\n",
    "print(f\"Variance: {np.var(data):.2f}\")\n",
    "print(f\"Minimum value: {np.min(data)}\")\n",
    "print(f\"Maximum value: {np.max(data)}\")\n",
    "print(f\"Range (max - min): {np.max(data) - np.min(data)}\")\n",
    "\n",
    "print(\"\\n\" + \"=\"*50)\n",
    "\n",
    "# Percentiles\n",
    "print(f\"25th percentile: {np.percentile(data, 25):.2f}\")\n",
    "print(f\"50th percentile (median): {np.percentile(data, 50):.2f}\")\n",
    "print(f\"75th percentile: {np.percentile(data, 75):.2f}\")\n",
    "\n",
    "print(\"\\n\" + \"=\"*50)\n",
    "\n",
    "# Aggregations along axes\n",
    "print(\"Sum along axis=0 (column sums):\")\n",
    "print(np.sum(data, axis=0))\n",
    "\n",
    "print(\"\\nSum along axis=1 (row sums):\")\n",
    "print(np.sum(data, axis=1))\n",
    "\n",
    "print(\"\\nMean along axis=0 (column means):\")\n",
    "print(np.mean(data, axis=0))\n",
    "\n",
    "print(\"\\nMean along axis=1 (row means):\")\n",
    "print(np.mean(data, axis=1))"
   ]
  },
  {
   "cell_type": "code",
   "execution_count": 6,
   "metadata": {},
   "outputs": [
    {
     "name": "stdout",
     "output_type": "stream",
     "text": [
      "Advanced aggregation functions:\n",
      "\n",
      "Original array: [1 2 3 4 5]\n",
      "Cumulative sum: [ 1  3  6 10 15]\n",
      "Cumulative product: [  1   2   6  24 120]\n",
      "\n",
      "Array with duplicates: [1 2 2 3 3 3 4 5 5]\n",
      "Unique values: [1 2 3 4 5]\n",
      "Counts: [1 2 3 1 2]\n",
      "\n",
      "Unsorted array: [64 34 25 12 22 11 90]\n",
      "Sorted array: [11 12 22 25 34 64 90]\n",
      "Indices that would sort the array: [5 3 4 2 1 0 6]\n",
      "\n",
      "Count of elements > 50: 2\n",
      "Any element > 80: True\n",
      "All elements > 10: True\n"
     ]
    }
   ],
   "source": [
    "# More advanced aggregations\n",
    "print(\"Advanced aggregation functions:\")\n",
    "\n",
    "# Cumulative operations\n",
    "arr = np.array([1, 2, 3, 4, 5])\n",
    "print(f\"\\nOriginal array: {arr}\")\n",
    "print(f\"Cumulative sum: {np.cumsum(arr)}\")\n",
    "print(f\"Cumulative product: {np.cumprod(arr)}\")\n",
    "\n",
    "# Unique values\n",
    "arr_with_duplicates = np.array([1, 2, 2, 3, 3, 3, 4, 5, 5])\n",
    "unique_vals, counts = np.unique(arr_with_duplicates, return_counts=True)\n",
    "print(f\"\\nArray with duplicates: {arr_with_duplicates}\")\n",
    "print(f\"Unique values: {unique_vals}\")\n",
    "print(f\"Counts: {counts}\")\n",
    "\n",
    "# Sorting\n",
    "unsorted_arr = np.array([64, 34, 25, 12, 22, 11, 90])\n",
    "print(f\"\\nUnsorted array: {unsorted_arr}\")\n",
    "print(f\"Sorted array: {np.sort(unsorted_arr)}\")\n",
    "print(f\"Indices that would sort the array: {np.argsort(unsorted_arr)}\")\n",
    "\n",
    "# Conditional aggregations\n",
    "print(f\"\\nCount of elements > 50: {np.sum(unsorted_arr > 50)}\")\n",
    "print(f\"Any element > 80: {np.any(unsorted_arr > 80)}\")\n",
    "print(f\"All elements > 10: {np.all(unsorted_arr > 10)}\")"
   ]
  },
  {
   "cell_type": "code",
   "execution_count": null,
   "metadata": {},
   "outputs": [],
   "source": []
  },
  {
   "cell_type": "code",
   "execution_count": null,
   "metadata": {},
   "outputs": [],
   "source": []
  },
  {
   "cell_type": "code",
   "execution_count": null,
   "metadata": {},
   "outputs": [],
   "source": []
  },
  {
   "cell_type": "code",
   "execution_count": null,
   "metadata": {},
   "outputs": [],
   "source": []
  },
  {
   "cell_type": "code",
   "execution_count": null,
   "metadata": {},
   "outputs": [],
   "source": []
  },
  {
   "cell_type": "markdown",
   "metadata": {},
   "source": [
    "## Summary\n",
    "\n",
    "In this chapter, you learned:\n",
    "\n",
    "* **Why NumPy is fast and essential for data science** - C implementation, vectorized operations, and memory efficiency\n",
    "* **How vectorized operations and broadcasting make array math efficient and easy** - No more explicit loops!\n",
    "* **Array creation, indexing, and manipulation techniques** - The building blocks of data analysis\n",
    "* **Real-world applications** - From simple statistics to implementing machine learning algorithms\n",
    "\n",
    "### The main idea: \n",
    "With NumPy, you work with whole arrays, not loops over elements. This paradigm shift is fundamental to efficient data science in Python.\n"
   ]
  },
  {
   "cell_type": "markdown",
   "metadata": {},
   "source": [
    "## Additional Resources\n",
    "\n",
    "### Core Documentation\n",
    "* [NumPy Documentation](https://numpy.org/doc/stable/)\n",
    "* [NumPy Quickstart Tutorial](https://numpy.org/doc/stable/user/quickstart.html)\n",
    "* [From Python to NumPy](https://www.labri.fr/perso/nrougier/from-python-to-numpy/)\n",
    "* [NumPy Illustrated](https://betterprogramming.pub/numpy-illustrated-the-visual-guide-to-numpy-3b1d4976de1d)\n",
    "\n",
    "### Additional Practice Resources\n",
    "* [100 NumPy Exercises](https://github.com/rougier/numpy-100)\n",
    "* [NumPy Tutorial on Real Python](https://realpython.com/numpy-tutorial/)\n",
    "* [SciPy Lecture Notes](https://scipy-lectures.org/intro/numpy/index.html)\n",
    "* [NumPy Cheat Sheet](https://s3.amazonaws.com/assets.datacamp.com/blog_assets/Numpy_Python_Cheat_Sheet.pdf)\n",
    "\n",
    "### Performance and Optimization\n",
    "* [NumPy Performance Tips](https://numpy.org/doc/stable/user/basics.performance.html)\n",
    "* [Understanding NumPy Memory Layout](https://numpy.org/doc/stable/user/basics.ndarray.html#memory-layout)\n",
    "* [Broadcasting Rules Explained](https://numpy.org/doc/stable/user/basics.broadcasting.html)"
   ]
  }
 ],
 "metadata": {
  "kernelspec": {
   "display_name": "Python 3 (ipykernel)",
   "language": "python",
   "name": "python3"
  },
  "language_info": {
   "codemirror_mode": {
    "name": "ipython",
    "version": 3
   },
   "file_extension": ".py",
   "mimetype": "text/x-python",
   "name": "python",
   "nbconvert_exporter": "python",
   "pygments_lexer": "ipython3",
   "version": "3.12.11"
  }
 },
 "nbformat": 4,
 "nbformat_minor": 4
}
